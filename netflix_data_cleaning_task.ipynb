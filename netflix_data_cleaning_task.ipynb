{
 "cells": [
  {
   "cell_type": "markdown",
   "id": "292c943b",
   "metadata": {},
   "source": [
    "# 🎬 Netflix Dataset – Data Cleaning (Internship Task 1)\n",
    "\n",
    "**Task:**Clean and preprocess the Netflix Movies and TV Shows dataset using Pandas(Python).\n",
    "\n",
    "📌 This task involves:\n",
    "- Handling missing values.\n",
    "- Removing duplicates.\n",
    "- Standardizing formats.\n",
    "- Converting dates.\n",
    "- Renaming columns.\n",
    "- Fixing data types."
   ]
  },
  {
   "cell_type": "code",
   "execution_count": 1,
   "id": "7086bce9",
   "metadata": {},
   "outputs": [],
   "source": [
    "import pandas as pd\n",
    "import matplotlib.pyplot as plt\n"
   ]
  },
  {
   "cell_type": "markdown",
   "id": "832411dd",
   "metadata": {},
   "source": [
    "## 📂 Step 1: Load the Dataset\n",
    "We'll load the dataset and check its basic structure."
   ]
  },
  {
   "cell_type": "code",
   "execution_count": 2,
   "id": "028d0762",
   "metadata": {},
   "outputs": [
    {
     "data": {
      "text/html": [
       "<div>\n",
       "<style scoped>\n",
       "    .dataframe tbody tr th:only-of-type {\n",
       "        vertical-align: middle;\n",
       "    }\n",
       "\n",
       "    .dataframe tbody tr th {\n",
       "        vertical-align: top;\n",
       "    }\n",
       "\n",
       "    .dataframe thead th {\n",
       "        text-align: right;\n",
       "    }\n",
       "</style>\n",
       "<table border=\"1\" class=\"dataframe\">\n",
       "  <thead>\n",
       "    <tr style=\"text-align: right;\">\n",
       "      <th></th>\n",
       "      <th>show_id</th>\n",
       "      <th>type</th>\n",
       "      <th>title</th>\n",
       "      <th>director</th>\n",
       "      <th>cast</th>\n",
       "      <th>country</th>\n",
       "      <th>date_added</th>\n",
       "      <th>release_year</th>\n",
       "      <th>rating</th>\n",
       "      <th>duration</th>\n",
       "      <th>listed_in</th>\n",
       "      <th>description</th>\n",
       "      <th>year_added</th>\n",
       "      <th>duration_minutes</th>\n",
       "      <th>seasons</th>\n",
       "      <th>genres</th>\n",
       "    </tr>\n",
       "  </thead>\n",
       "  <tbody>\n",
       "    <tr>\n",
       "      <th>0</th>\n",
       "      <td>s1</td>\n",
       "      <td>Movie</td>\n",
       "      <td>Dick Johnson Is Dead</td>\n",
       "      <td>Kirsten Johnson</td>\n",
       "      <td>NaN</td>\n",
       "      <td>United States</td>\n",
       "      <td>2021-09-25</td>\n",
       "      <td>2020</td>\n",
       "      <td>PG-13</td>\n",
       "      <td>90 min</td>\n",
       "      <td>Documentaries</td>\n",
       "      <td>As her father nears the end of his life, filmm...</td>\n",
       "      <td>2021.0</td>\n",
       "      <td>90.0</td>\n",
       "      <td>NaN</td>\n",
       "      <td>Documentaries</td>\n",
       "    </tr>\n",
       "    <tr>\n",
       "      <th>1</th>\n",
       "      <td>s2</td>\n",
       "      <td>TV Show</td>\n",
       "      <td>Blood &amp; Water</td>\n",
       "      <td>NaN</td>\n",
       "      <td>Ama Qamata, Khosi Ngema, Gail Mabalane, Thaban...</td>\n",
       "      <td>South Africa</td>\n",
       "      <td>2021-09-24</td>\n",
       "      <td>2021</td>\n",
       "      <td>TV-MA</td>\n",
       "      <td>2 Seasons</td>\n",
       "      <td>International TV Shows, TV Dramas, TV Mysteries</td>\n",
       "      <td>After crossing paths at a party, a Cape Town t...</td>\n",
       "      <td>2021.0</td>\n",
       "      <td>NaN</td>\n",
       "      <td>2.0</td>\n",
       "      <td>International TV Shows</td>\n",
       "    </tr>\n",
       "    <tr>\n",
       "      <th>2</th>\n",
       "      <td>s2</td>\n",
       "      <td>TV Show</td>\n",
       "      <td>Blood &amp; Water</td>\n",
       "      <td>NaN</td>\n",
       "      <td>Ama Qamata, Khosi Ngema, Gail Mabalane, Thaban...</td>\n",
       "      <td>South Africa</td>\n",
       "      <td>2021-09-24</td>\n",
       "      <td>2021</td>\n",
       "      <td>TV-MA</td>\n",
       "      <td>2 Seasons</td>\n",
       "      <td>International TV Shows, TV Dramas, TV Mysteries</td>\n",
       "      <td>After crossing paths at a party, a Cape Town t...</td>\n",
       "      <td>2021.0</td>\n",
       "      <td>NaN</td>\n",
       "      <td>2.0</td>\n",
       "      <td>TV Dramas</td>\n",
       "    </tr>\n",
       "    <tr>\n",
       "      <th>3</th>\n",
       "      <td>s2</td>\n",
       "      <td>TV Show</td>\n",
       "      <td>Blood &amp; Water</td>\n",
       "      <td>NaN</td>\n",
       "      <td>Ama Qamata, Khosi Ngema, Gail Mabalane, Thaban...</td>\n",
       "      <td>South Africa</td>\n",
       "      <td>2021-09-24</td>\n",
       "      <td>2021</td>\n",
       "      <td>TV-MA</td>\n",
       "      <td>2 Seasons</td>\n",
       "      <td>International TV Shows, TV Dramas, TV Mysteries</td>\n",
       "      <td>After crossing paths at a party, a Cape Town t...</td>\n",
       "      <td>2021.0</td>\n",
       "      <td>NaN</td>\n",
       "      <td>2.0</td>\n",
       "      <td>TV Mysteries</td>\n",
       "    </tr>\n",
       "    <tr>\n",
       "      <th>4</th>\n",
       "      <td>s3</td>\n",
       "      <td>TV Show</td>\n",
       "      <td>Ganglands</td>\n",
       "      <td>Julien Leclercq</td>\n",
       "      <td>Sami Bouajila, Tracy Gotoas, Samuel Jouy, Nabi...</td>\n",
       "      <td>NaN</td>\n",
       "      <td>2021-09-24</td>\n",
       "      <td>2021</td>\n",
       "      <td>TV-MA</td>\n",
       "      <td>1 Season</td>\n",
       "      <td>Crime TV Shows, International TV Shows, TV Act...</td>\n",
       "      <td>To protect his family from a powerful drug lor...</td>\n",
       "      <td>2021.0</td>\n",
       "      <td>NaN</td>\n",
       "      <td>1.0</td>\n",
       "      <td>Crime TV Shows</td>\n",
       "    </tr>\n",
       "  </tbody>\n",
       "</table>\n",
       "</div>"
      ],
      "text/plain": [
       "  show_id     type                 title         director  \\\n",
       "0      s1    Movie  Dick Johnson Is Dead  Kirsten Johnson   \n",
       "1      s2  TV Show         Blood & Water              NaN   \n",
       "2      s2  TV Show         Blood & Water              NaN   \n",
       "3      s2  TV Show         Blood & Water              NaN   \n",
       "4      s3  TV Show             Ganglands  Julien Leclercq   \n",
       "\n",
       "                                                cast        country  \\\n",
       "0                                                NaN  United States   \n",
       "1  Ama Qamata, Khosi Ngema, Gail Mabalane, Thaban...   South Africa   \n",
       "2  Ama Qamata, Khosi Ngema, Gail Mabalane, Thaban...   South Africa   \n",
       "3  Ama Qamata, Khosi Ngema, Gail Mabalane, Thaban...   South Africa   \n",
       "4  Sami Bouajila, Tracy Gotoas, Samuel Jouy, Nabi...            NaN   \n",
       "\n",
       "   date_added  release_year rating   duration  \\\n",
       "0  2021-09-25          2020  PG-13     90 min   \n",
       "1  2021-09-24          2021  TV-MA  2 Seasons   \n",
       "2  2021-09-24          2021  TV-MA  2 Seasons   \n",
       "3  2021-09-24          2021  TV-MA  2 Seasons   \n",
       "4  2021-09-24          2021  TV-MA   1 Season   \n",
       "\n",
       "                                           listed_in  \\\n",
       "0                                      Documentaries   \n",
       "1    International TV Shows, TV Dramas, TV Mysteries   \n",
       "2    International TV Shows, TV Dramas, TV Mysteries   \n",
       "3    International TV Shows, TV Dramas, TV Mysteries   \n",
       "4  Crime TV Shows, International TV Shows, TV Act...   \n",
       "\n",
       "                                         description  year_added  \\\n",
       "0  As her father nears the end of his life, filmm...      2021.0   \n",
       "1  After crossing paths at a party, a Cape Town t...      2021.0   \n",
       "2  After crossing paths at a party, a Cape Town t...      2021.0   \n",
       "3  After crossing paths at a party, a Cape Town t...      2021.0   \n",
       "4  To protect his family from a powerful drug lor...      2021.0   \n",
       "\n",
       "   duration_minutes  seasons                  genres  \n",
       "0              90.0      NaN           Documentaries  \n",
       "1               NaN      2.0  International TV Shows  \n",
       "2               NaN      2.0               TV Dramas  \n",
       "3               NaN      2.0            TV Mysteries  \n",
       "4               NaN      1.0          Crime TV Shows  "
      ]
     },
     "execution_count": 2,
     "metadata": {},
     "output_type": "execute_result"
    }
   ],
   "source": [
    "# Load dataset\n",
    "df = pd.read_csv(\"netflix_movies_processed_for_tableau.csv\")\n",
    "\n",
    "# Preview the dataset\n",
    "df.head()"
   ]
  },
  {
   "cell_type": "markdown",
   "id": "9ab3ea32",
   "metadata": {},
   "source": [
    "## 🧩 Step 2: Identify Missing Values\n",
    "We’ll inspect and handle missing values in the dataset."
   ]
  },
  {
   "cell_type": "code",
   "execution_count": 3,
   "id": "bc1df623",
   "metadata": {},
   "outputs": [
    {
     "data": {
      "text/plain": [
       "show_id                 0\n",
       "type                    0\n",
       "title                   0\n",
       "director             5884\n",
       "cast                 1504\n",
       "country              1722\n",
       "date_added             20\n",
       "release_year            0\n",
       "rating                  6\n",
       "duration                3\n",
       "listed_in               0\n",
       "description             0\n",
       "year_added             20\n",
       "duration_minutes     6136\n",
       "seasons             13190\n",
       "genres                  0\n",
       "dtype: int64"
      ]
     },
     "execution_count": 3,
     "metadata": {},
     "output_type": "execute_result"
    }
   ],
   "source": [
    "# Count missing values\n",
    "df.isnull().sum()"
   ]
  },
  {
   "cell_type": "code",
   "execution_count": 13,
   "id": "f1ce8285",
   "metadata": {},
   "outputs": [
    {
     "data": {
      "text/plain": [
       "show_id                 0\n",
       "type                    0\n",
       "title                   0\n",
       "director             5884\n",
       "cast                 1504\n",
       "country                 0\n",
       "date_added             20\n",
       "release_year            0\n",
       "rating                  6\n",
       "duration                3\n",
       "listed_in               0\n",
       "description             0\n",
       "year_added             20\n",
       "duration_minutes     6136\n",
       "seasons             13190\n",
       "genres                  0\n",
       "dtype: int64"
      ]
     },
     "execution_count": 13,
     "metadata": {},
     "output_type": "execute_result"
    }
   ],
   "source": [
    "\n",
    "df['country'].fillna('Unknown', inplace=True)\n",
    "\n",
    "df.dropna(subset=['title', 'type'], inplace=True)\n",
    "\n",
    "# Recheck missing values\n",
    "df.isnull().sum()"
   ]
  },
  {
   "cell_type": "markdown",
   "id": "dd925e9a",
   "metadata": {},
   "source": [
    "## 🔁 Step 3: Remove Duplicate Rows\n",
    "We'll remove any duplicate entries in the dataset."
   ]
  },
  {
   "cell_type": "code",
   "execution_count": 5,
   "id": "759cd46d",
   "metadata": {},
   "outputs": [
    {
     "name": "stdout",
     "output_type": "stream",
     "text": [
      "Original rows: 19323\n",
      "After removing duplicates: 19323\n"
     ]
    }
   ],
   "source": [
    "\n",
    "print(\"Original rows:\", df.shape[0])\n",
    "\n",
    "# Drop duplicates\n",
    "df.drop_duplicates(inplace=True)\n",
    "\n",
    "# New shape\n",
    "print(\"After removing duplicates:\", df.shape[0])"
   ]
  },
  {
   "cell_type": "markdown",
   "id": "85c0009e",
   "metadata": {},
   "source": [
    "## ✏️ Step 4: Standardize Text Data\n",
    "We'll clean up inconsistent text formatting (like case and spaces)."
   ]
  },
  {
   "cell_type": "code",
   "execution_count": 8,
   "id": "ff81d5fa",
   "metadata": {},
   "outputs": [],
   "source": [
    "\n",
    "df['country'] = df['country'].str.title()\n",
    "\n",
    "df = df.apply(lambda x: x.str.strip() if x.dtype == \"object\" else x)"
   ]
  },
  {
   "cell_type": "markdown",
   "id": "09c6101d",
   "metadata": {},
   "source": [
    "## 📅 Step 5: Convert Date Formats\n",
    "Let's convert `date_added` to datetime format."
   ]
  },
  {
   "cell_type": "code",
   "execution_count": 9,
   "id": "ec785c76",
   "metadata": {},
   "outputs": [
    {
     "data": {
      "text/html": [
       "<div>\n",
       "<style scoped>\n",
       "    .dataframe tbody tr th:only-of-type {\n",
       "        vertical-align: middle;\n",
       "    }\n",
       "\n",
       "    .dataframe tbody tr th {\n",
       "        vertical-align: top;\n",
       "    }\n",
       "\n",
       "    .dataframe thead th {\n",
       "        text-align: right;\n",
       "    }\n",
       "</style>\n",
       "<table border=\"1\" class=\"dataframe\">\n",
       "  <thead>\n",
       "    <tr style=\"text-align: right;\">\n",
       "      <th></th>\n",
       "      <th>title</th>\n",
       "      <th>date_added</th>\n",
       "    </tr>\n",
       "  </thead>\n",
       "  <tbody>\n",
       "    <tr>\n",
       "      <th>0</th>\n",
       "      <td>Dick Johnson Is Dead</td>\n",
       "      <td>2021-09-25</td>\n",
       "    </tr>\n",
       "    <tr>\n",
       "      <th>1</th>\n",
       "      <td>Blood &amp; Water</td>\n",
       "      <td>2021-09-24</td>\n",
       "    </tr>\n",
       "    <tr>\n",
       "      <th>2</th>\n",
       "      <td>Blood &amp; Water</td>\n",
       "      <td>2021-09-24</td>\n",
       "    </tr>\n",
       "    <tr>\n",
       "      <th>3</th>\n",
       "      <td>Blood &amp; Water</td>\n",
       "      <td>2021-09-24</td>\n",
       "    </tr>\n",
       "    <tr>\n",
       "      <th>4</th>\n",
       "      <td>Ganglands</td>\n",
       "      <td>2021-09-24</td>\n",
       "    </tr>\n",
       "  </tbody>\n",
       "</table>\n",
       "</div>"
      ],
      "text/plain": [
       "                  title date_added\n",
       "0  Dick Johnson Is Dead 2021-09-25\n",
       "1         Blood & Water 2021-09-24\n",
       "2         Blood & Water 2021-09-24\n",
       "3         Blood & Water 2021-09-24\n",
       "4             Ganglands 2021-09-24"
      ]
     },
     "execution_count": 9,
     "metadata": {},
     "output_type": "execute_result"
    }
   ],
   "source": [
    "\n",
    "df['date_added'] = pd.to_datetime(df['date_added'], errors='coerce')\n",
    "\n",
    "# Preview\n",
    "df[['title', 'date_added']].head()"
   ]
  },
  {
   "cell_type": "markdown",
   "id": "0d7a3229",
   "metadata": {},
   "source": [
    "## 🏷️ Step 6: Rename Columns\n",
    "We'll rename columns for consistency (lowercase, no spaces)."
   ]
  },
  {
   "cell_type": "code",
   "execution_count": 10,
   "id": "5ed1db5c",
   "metadata": {},
   "outputs": [
    {
     "data": {
      "text/plain": [
       "Index(['show_id', 'type', 'title', 'director', 'cast', 'country', 'date_added',\n",
       "       'release_year', 'rating', 'duration', 'listed_in', 'description',\n",
       "       'year_added', 'duration_minutes', 'seasons', 'genres'],\n",
       "      dtype='object')"
      ]
     },
     "execution_count": 10,
     "metadata": {},
     "output_type": "execute_result"
    }
   ],
   "source": [
    "df.columns = df.columns.str.lower().str.replace(' ', '_')\n",
    "df.columns"
   ]
  },
  {
   "cell_type": "markdown",
   "id": "8c0c38b8",
   "metadata": {},
   "source": [
    "## 💾 Step 7: Export Cleaned Dataset\n",
    "We'll save the cleaned version to a new CSV file."
   ]
  },
  {
   "cell_type": "code",
   "execution_count": 12,
   "id": "12021875",
   "metadata": {},
   "outputs": [
    {
     "name": "stdout",
     "output_type": "stream",
     "text": [
      "✅ Cleaned dataset saved as 'netflix_cleaned.csv'\n"
     ]
    }
   ],
   "source": [
    "\n",
    "df.to_csv(\"netflix_cleaned dataset.csv\", index=False)\n",
    "\n",
    "print(\"✅ Cleaned dataset saved as 'netflix_cleaned dataset.csv'\")"
   ]
  },
  {
   "cell_type": "markdown",
   "id": "0f7d749d-9ff9-481a-8b57-99567713d4fb",
   "metadata": {},
   "source": [
    "## ✅ Summary of Cleaning Steps or changes\n",
    "\n",
    "\n",
    "- Filled missing `country` values with \"Unknown\"\n",
    "- Dropped rows missing `title` or `type`\n",
    "- Removed duplicate records\n",
    "- Standardized text (title case, trimmed spaces)\n",
    "- Converted `date_added` to datetime format\n",
    "- Renamed columns to lowercase with underscores\n",
    "- Saved cleaned dataset as `netflix_cleaned dataset.csv`"
   ]
  }
 ],
 "metadata": {
  "kernelspec": {
   "display_name": "Python 3 (ipykernel)",
   "language": "python",
   "name": "python3"
  },
  "language_info": {
   "codemirror_mode": {
    "name": "ipython",
    "version": 3
   },
   "file_extension": ".py",
   "mimetype": "text/x-python",
   "name": "python",
   "nbconvert_exporter": "python",
   "pygments_lexer": "ipython3",
   "version": "3.11.7"
  }
 },
 "nbformat": 4,
 "nbformat_minor": 5
}
